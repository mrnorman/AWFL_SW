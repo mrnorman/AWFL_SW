{
 "cells": [
  {
   "cell_type": "code",
   "execution_count": 81,
   "metadata": {},
   "outputs": [],
   "source": [
    "var('q1,q2,q3,h,u,v,g_w,g')\n",
    "latex.matrix_delimiters(\"[\", \"]\")\n",
    "assume(g_w>0)\n",
    "q=vector([ q1 , q2 , q3 ])\n",
    "f=vector([ q2 , q2*q2/q1+g*q1*q1/2 , q2*q3/q1 ])\n",
    "g=vector([ q3 , q2*q3/q1 , q3*q3/q1+g*q1*q1/2 ])"
   ]
  },
  {
   "cell_type": "code",
   "execution_count": 82,
   "metadata": {
    "scrolled": false
   },
   "outputs": [
    {
     "data": {
      "text/html": [
       "<html><script type=\"math/tex; mode=display\">\\newcommand{\\Bold}[1]{\\mathbf{#1}}\\left[\\begin{array}{rrr}\n",
       "-g_{w} + u & 0 & 0 \\\\\n",
       "0 & g_{w} + u & 0 \\\\\n",
       "0 & 0 & u\n",
       "\\end{array}\\right]</script></html>"
      ],
      "text/plain": [
       "[-g_w + u        0        0]\n",
       "[       0  g_w + u        0]\n",
       "[       0        0        u]"
      ]
     },
     "metadata": {},
     "output_type": "display_data"
    },
    {
     "data": {
      "text/html": [
       "<html><script type=\"math/tex; mode=display\">\\newcommand{\\Bold}[1]{\\mathbf{#1}}\\left[\\begin{array}{rrr}\n",
       "1 & 1 & 0 \\\\\n",
       "-g_{w} + u & g_{w} + u & 0 \\\\\n",
       "v & v & 1\n",
       "\\end{array}\\right]</script></html>"
      ],
      "text/plain": [
       "[       1        1        0]\n",
       "[-g_w + u  g_w + u        0]\n",
       "[       v        v        1]"
      ]
     },
     "metadata": {},
     "output_type": "display_data"
    },
    {
     "data": {
      "text/html": [
       "<html><script type=\"math/tex; mode=display\">\\newcommand{\\Bold}[1]{\\mathbf{#1}}\\left[\\begin{array}{rrr}\n",
       "\\frac{g_{w} + u}{2 \\, g_{w}} & -\\frac{1}{2 \\, g_{w}} & 0 \\\\\n",
       "\\frac{g_{w} - u}{2 \\, g_{w}} & \\frac{1}{2 \\, g_{w}} & 0 \\\\\n",
       "-v & 0 & 1\n",
       "\\end{array}\\right]</script></html>"
      ],
      "text/plain": [
       "[1/2*(g_w + u)/g_w          -1/2/g_w                 0]\n",
       "[1/2*(g_w - u)/g_w           1/2/g_w                 0]\n",
       "[               -v                 0                 1]"
      ]
     },
     "metadata": {},
     "output_type": "display_data"
    }
   ],
   "source": [
    "A=jacobian(f,q)\n",
    "Lambda,R = A.eigenmatrix_right()\n",
    "L=R^-1\n",
    "Lambda = matrix(3,3,Lambda.list())\n",
    "show(Lambda.subs(q1=h,q2=h*u,q3=h*v,g=g_w*g_w/h).simplify_full())\n",
    "show(R     .subs(q1=h,q2=h*u,q3=h*v,g=g_w*g_w/h).simplify_full())\n",
    "show(L     .subs(q1=h,q2=h*u,q3=h*v,g=g_w*g_w/h).simplify_full())"
   ]
  },
  {
   "cell_type": "code",
   "execution_count": 83,
   "metadata": {},
   "outputs": [
    {
     "data": {
      "text/html": [
       "<html><script type=\"math/tex; mode=display\">\\newcommand{\\Bold}[1]{\\mathbf{#1}}\\left[\\begin{array}{rrr}\n",
       "-g_{w} + v & 0 & 0 \\\\\n",
       "0 & g_{w} + v & 0 \\\\\n",
       "0 & 0 & v\n",
       "\\end{array}\\right]</script></html>"
      ],
      "text/plain": [
       "[-g_w + v        0        0]\n",
       "[       0  g_w + v        0]\n",
       "[       0        0        v]"
      ]
     },
     "metadata": {},
     "output_type": "display_data"
    },
    {
     "data": {
      "text/html": [
       "<html><script type=\"math/tex; mode=display\">\\newcommand{\\Bold}[1]{\\mathbf{#1}}\\left[\\begin{array}{rrr}\n",
       "1 & 1 & 0 \\\\\n",
       "u & u & 1 \\\\\n",
       "-g_{w} + v & g_{w} + v & 0\n",
       "\\end{array}\\right]</script></html>"
      ],
      "text/plain": [
       "[       1        1        0]\n",
       "[       u        u        1]\n",
       "[-g_w + v  g_w + v        0]"
      ]
     },
     "metadata": {},
     "output_type": "display_data"
    },
    {
     "data": {
      "text/html": [
       "<html><script type=\"math/tex; mode=display\">\\newcommand{\\Bold}[1]{\\mathbf{#1}}\\left[\\begin{array}{rrr}\n",
       "\\frac{g_{w} + v}{2 \\, g_{w}} & 0 & -\\frac{1}{2 \\, g_{w}} \\\\\n",
       "\\frac{g_{w} - v}{2 \\, g_{w}} & 0 & \\frac{1}{2 \\, g_{w}} \\\\\n",
       "-u & 1 & 0\n",
       "\\end{array}\\right]</script></html>"
      ],
      "text/plain": [
       "[1/2*(g_w + v)/g_w                 0          -1/2/g_w]\n",
       "[1/2*(g_w - v)/g_w                 0           1/2/g_w]\n",
       "[               -u                 1                 0]"
      ]
     },
     "metadata": {},
     "output_type": "display_data"
    }
   ],
   "source": [
    "A=jacobian(g,q)\n",
    "Lambda,R = A.eigenmatrix_right()\n",
    "L=R^-1\n",
    "Lambda = matrix(3,3,Lambda.list())\n",
    "show(Lambda.subs(q1=h,q2=h*u,q3=h*v,g=g_w*g_w/h).simplify_full())\n",
    "show(R     .subs(q1=h,q2=h*u,q3=h*v,g=g_w*g_w/h).simplify_full())\n",
    "show(L     .subs(q1=h,q2=h*u,q3=h*v,g=g_w*g_w/h).simplify_full())"
   ]
  },
  {
   "cell_type": "code",
   "execution_count": null,
   "metadata": {},
   "outputs": [],
   "source": []
  }
 ],
 "metadata": {
  "kernelspec": {
   "display_name": "SageMath 8.4",
   "language": "",
   "name": "sagemath"
  },
  "language_info": {
   "codemirror_mode": {
    "name": "ipython",
    "version": 2
   },
   "file_extension": ".py",
   "mimetype": "text/x-python",
   "name": "python",
   "nbconvert_exporter": "python",
   "pygments_lexer": "ipython2",
   "version": "2.7.15"
  }
 },
 "nbformat": 4,
 "nbformat_minor": 2
}
