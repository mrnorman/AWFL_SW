{
 "cells": [
  {
   "cell_type": "code",
   "execution_count": 1,
   "metadata": {},
   "outputs": [],
   "source": [
    "def coefs_1d(N,N0,lab) :\n",
    "    return vector([ var(lab+'%s'%i) for i in range(N0,N0+N) ])\n",
    "\n",
    "latex.matrix_delimiters(\"[\", \"]\")\n",
    "latex.matrix_column_alignment(align='c')\n"
   ]
  },
  {
   "cell_type": "markdown",
   "metadata": {},
   "source": [
    "# SWM Primitive 1-D (h,u)"
   ]
  },
  {
   "cell_type": "code",
   "execution_count": 7,
   "metadata": {},
   "outputs": [
    {
     "data": {
      "text/html": [
       "<html><script type=\"math/tex; mode=display\">\\newcommand{\\Bold}[1]{\\mathbf{#1}}\\left[\\begin{array}{cc}\n",
       "u & h \\\\\n",
       "g & u\n",
       "\\end{array}\\right] = \\left[\\begin{array}{cc}\n",
       "1 & 1 \\\\\n",
       "-\\frac{\\sqrt{g h}}{h} & \\frac{\\sqrt{g h}}{h}\n",
       "\\end{array}\\right] \\left[\\begin{array}{cc}\n",
       "u - \\sqrt{g h} & 0 \\\\\n",
       "0 & u + \\sqrt{g h}\n",
       "\\end{array}\\right] \\left[\\begin{array}{cc}\n",
       "\\frac{1}{2} & -\\frac{h}{2 \\, \\sqrt{g h}} \\\\\n",
       "\\frac{1}{2} & \\frac{h}{2 \\, \\sqrt{g h}}\n",
       "\\end{array}\\right]</script></html>"
      ],
      "text/plain": [
       "\\left[\\begin{array}{cc}\n",
       "u & h \\\\\n",
       "g & u\n",
       "\\end{array}\\right] = \\left[\\begin{array}{cc}\n",
       "1 & 1 \\\\\n",
       "-\\frac{\\sqrt{g h}}{h} & \\frac{\\sqrt{g h}}{h}\n",
       "\\end{array}\\right] \\left[\\begin{array}{cc}\n",
       "u - \\sqrt{g h} & 0 \\\\\n",
       "0 & u + \\sqrt{g h}\n",
       "\\end{array}\\right] \\left[\\begin{array}{cc}\n",
       "\\frac{1}{2} & -\\frac{h}{2 \\, \\sqrt{g h}} \\\\\n",
       "\\frac{1}{2} & \\frac{h}{2 \\, \\sqrt{g h}}\n",
       "\\end{array}\\right]"
      ]
     },
     "metadata": {},
     "output_type": "display_data"
    }
   ],
   "source": [
    "# X-DIRECTION CHARACTERISTICS\n",
    "var('h,u,g')\n",
    "\n",
    "dfdq = Matrix(2,2,[u,h,g,u])\n",
    "Lambda,R = dfdq.eigenmatrix_right()\n",
    "Lambda = Matrix(2,2,Lambda.list())\n",
    "L = (R^-1).simplify_full()\n",
    "\n",
    "show(latex(dfdq.simplify_full())+\"=\"+latex(R.simplify_full())+latex(Lambda.simplify_full())+latex(L.simplify_full()))"
   ]
  },
  {
   "cell_type": "markdown",
   "metadata": {},
   "source": [
    "# SWM Coservative 1-D (h,hu)"
   ]
  },
  {
   "cell_type": "code",
   "execution_count": 8,
   "metadata": {},
   "outputs": [
    {
     "data": {
      "text/html": [
       "<html><script type=\"math/tex; mode=display\">\\newcommand{\\Bold}[1]{\\mathbf{#1}}\\left[\\begin{array}{cc}\n",
       "0 & 1 \\\\\n",
       "g h - u^{2} & 2 \\, u\n",
       "\\end{array}\\right] = \\left[\\begin{array}{cc}\n",
       "1 & 1 \\\\\n",
       "u - \\sqrt{g h} & u + \\sqrt{g h}\n",
       "\\end{array}\\right] \\left[\\begin{array}{cc}\n",
       "u - \\sqrt{g h} & 0 \\\\\n",
       "0 & u + \\sqrt{g h}\n",
       "\\end{array}\\right] \\left[\\begin{array}{cc}\n",
       "\\frac{u + \\sqrt{g h}}{2 \\, \\sqrt{g h}} & -\\frac{1}{2 \\, \\sqrt{g h}} \\\\\n",
       "-\\frac{u - \\sqrt{g h}}{2 \\, \\sqrt{g h}} & \\frac{1}{2 \\, \\sqrt{g h}}\n",
       "\\end{array}\\right]</script></html>"
      ],
      "text/plain": [
       "\\left[\\begin{array}{cc}\n",
       "0 & 1 \\\\\n",
       "g h - u^{2} & 2 \\, u\n",
       "\\end{array}\\right] = \\left[\\begin{array}{cc}\n",
       "1 & 1 \\\\\n",
       "u - \\sqrt{g h} & u + \\sqrt{g h}\n",
       "\\end{array}\\right] \\left[\\begin{array}{cc}\n",
       "u - \\sqrt{g h} & 0 \\\\\n",
       "0 & u + \\sqrt{g h}\n",
       "\\end{array}\\right] \\left[\\begin{array}{cc}\n",
       "\\frac{u + \\sqrt{g h}}{2 \\, \\sqrt{g h}} & -\\frac{1}{2 \\, \\sqrt{g h}} \\\\\n",
       "-\\frac{u - \\sqrt{g h}}{2 \\, \\sqrt{g h}} & \\frac{1}{2 \\, \\sqrt{g h}}\n",
       "\\end{array}\\right]"
      ]
     },
     "metadata": {},
     "output_type": "display_data"
    }
   ],
   "source": [
    "# X-DIRECTION CHARACTERISTICS\n",
    "var('h,u,g')\n",
    "\n",
    "q = coefs_1d(2,0,'q')\n",
    "f = vector([ h*u , h*u*u+g*h*h/2 ])\n",
    "f = f.subs(h=q0,u=q1/q0)\n",
    "dfdq = jacobian(f,q)\n",
    "dfdq = dfdq.subs(q0=h,q1=h*u)\n",
    "Lambda,R = dfdq.eigenmatrix_right()\n",
    "Lambda = Matrix(2,2,Lambda.list())\n",
    "L = (R^-1).simplify_full()\n",
    "\n",
    "show(latex(dfdq.simplify_full())+\"=\"+latex(R.simplify_full())+latex(Lambda.simplify_full())+latex(L.simplify_full()))"
   ]
  },
  {
   "cell_type": "markdown",
   "metadata": {},
   "source": [
    "# SWM Primitive 2-D "
   ]
  },
  {
   "cell_type": "code",
   "execution_count": 2,
   "metadata": {
    "scrolled": true
   },
   "outputs": [
    {
     "data": {
      "text/html": [
       "<html><script type=\"math/tex; mode=display\">\\newcommand{\\Bold}[1]{\\mathbf{#1}}\\left[\\begin{array}{ccc}\n",
       "u & h & 0 \\\\\n",
       "g & u & 0 \\\\\n",
       "0 & 0 & u\n",
       "\\end{array}\\right] = \\left[\\begin{array}{ccc}\n",
       "1 & 1 & 0 \\\\\n",
       "-\\frac{\\sqrt{g h}}{h} & \\frac{\\sqrt{g h}}{h} & 0 \\\\\n",
       "0 & 0 & 1\n",
       "\\end{array}\\right] \\left[\\begin{array}{ccc}\n",
       "u - \\sqrt{g h} & 0 & 0 \\\\\n",
       "0 & u + \\sqrt{g h} & 0 \\\\\n",
       "0 & 0 & u\n",
       "\\end{array}\\right] \\left[\\begin{array}{ccc}\n",
       "\\frac{1}{2} & -\\frac{h}{2 \\, \\sqrt{g h}} & 0 \\\\\n",
       "\\frac{1}{2} & \\frac{h}{2 \\, \\sqrt{g h}} & 0 \\\\\n",
       "0 & 0 & 1\n",
       "\\end{array}\\right]</script></html>"
      ],
      "text/plain": [
       "\\left[\\begin{array}{ccc}\n",
       "u & h & 0 \\\\\n",
       "g & u & 0 \\\\\n",
       "0 & 0 & u\n",
       "\\end{array}\\right] = \\left[\\begin{array}{ccc}\n",
       "1 & 1 & 0 \\\\\n",
       "-\\frac{\\sqrt{g h}}{h} & \\frac{\\sqrt{g h}}{h} & 0 \\\\\n",
       "0 & 0 & 1\n",
       "\\end{array}\\right] \\left[\\begin{array}{ccc}\n",
       "u - \\sqrt{g h} & 0 & 0 \\\\\n",
       "0 & u + \\sqrt{g h} & 0 \\\\\n",
       "0 & 0 & u\n",
       "\\end{array}\\right] \\left[\\begin{array}{ccc}\n",
       "\\frac{1}{2} & -\\frac{h}{2 \\, \\sqrt{g h}} & 0 \\\\\n",
       "\\frac{1}{2} & \\frac{h}{2 \\, \\sqrt{g h}} & 0 \\\\\n",
       "0 & 0 & 1\n",
       "\\end{array}\\right]"
      ]
     },
     "metadata": {},
     "output_type": "display_data"
    }
   ],
   "source": [
    "# X-DIRECTION CHARACTERISTICS\n",
    "var('h,u,v,g')\n",
    "\n",
    "dfdq = Matrix(3,3,[u,h,0,\n",
    "                   g,u,0,\n",
    "                   0,0,u])\n",
    "Lambda,R = dfdq.eigenmatrix_right()\n",
    "Lambda = Matrix(3,3,Lambda.list())\n",
    "L = (R^-1).simplify_full()\n",
    "\n",
    "show(latex(dfdq.simplify_full())+\"=\"+latex(R.simplify_full())+latex(Lambda.simplify_full())+latex(L.simplify_full()))"
   ]
  },
  {
   "cell_type": "code",
   "execution_count": 3,
   "metadata": {},
   "outputs": [
    {
     "data": {
      "text/html": [
       "<html><script type=\"math/tex; mode=display\">\\newcommand{\\Bold}[1]{\\mathbf{#1}}\\left[\\begin{array}{cc}\n",
       "u & h \\\\\n",
       "g & u\n",
       "\\end{array}\\right] = \\left[\\begin{array}{cc}\n",
       "1 & 1 \\\\\n",
       "-\\frac{\\sqrt{g h}}{h} & \\frac{\\sqrt{g h}}{h}\n",
       "\\end{array}\\right] \\left[\\begin{array}{cc}\n",
       "u - \\sqrt{g h} & 0 \\\\\n",
       "0 & u + \\sqrt{g h}\n",
       "\\end{array}\\right] \\left[\\begin{array}{cc}\n",
       "\\frac{1}{2} & -\\frac{h}{2 \\, \\sqrt{g h}} \\\\\n",
       "\\frac{1}{2} & \\frac{h}{2 \\, \\sqrt{g h}}\n",
       "\\end{array}\\right]</script></html>"
      ],
      "text/plain": [
       "\\left[\\begin{array}{cc}\n",
       "u & h \\\\\n",
       "g & u\n",
       "\\end{array}\\right] = \\left[\\begin{array}{cc}\n",
       "1 & 1 \\\\\n",
       "-\\frac{\\sqrt{g h}}{h} & \\frac{\\sqrt{g h}}{h}\n",
       "\\end{array}\\right] \\left[\\begin{array}{cc}\n",
       "u - \\sqrt{g h} & 0 \\\\\n",
       "0 & u + \\sqrt{g h}\n",
       "\\end{array}\\right] \\left[\\begin{array}{cc}\n",
       "\\frac{1}{2} & -\\frac{h}{2 \\, \\sqrt{g h}} \\\\\n",
       "\\frac{1}{2} & \\frac{h}{2 \\, \\sqrt{g h}}\n",
       "\\end{array}\\right]"
      ]
     },
     "metadata": {},
     "output_type": "display_data"
    }
   ],
   "source": [
    "# Y-DIRECTION CHARACTERISTICS\n",
    "var('h,u,v,g')\n",
    "\n",
    "dfdq = Matrix(3,3,[v,0,h,\n",
    "                   0,v,0,\n",
    "                   g,0,v])\n",
    "Lambda,R = dfdq.eigenmatrix_right()\n",
    "Lambda = Matrix(3,3,Lambda.list())\n",
    "L = (R^-1).simplify_full()\n",
    "\n",
    "show(latex(dfdq.simplify_full())+\"=\"+latex(R.simplify_full())+latex(Lambda.simplify_full())+latex(L.simplify_full()))"
   ]
  },
  {
   "cell_type": "markdown",
   "metadata": {},
   "source": [
    "# SWM Primitive Vector-Only"
   ]
  },
  {
   "cell_type": "code",
   "execution_count": 4,
   "metadata": {},
   "outputs": [
    {
     "data": {
      "text/html": [
       "<html><script type=\"math/tex; mode=display\">\\newcommand{\\Bold}[1]{\\mathbf{#1}}\\left[\\begin{array}{ccc}\n",
       "u & h & 0 \\\\\n",
       "g & u & 0 \\\\\n",
       "0 & 0 & 0\n",
       "\\end{array}\\right] = \\left[\\begin{array}{ccc}\n",
       "1 & 1 & 0 \\\\\n",
       "-\\frac{\\sqrt{g h}}{h} & \\frac{\\sqrt{g h}}{h} & 0 \\\\\n",
       "0 & 0 & 1\n",
       "\\end{array}\\right] \\left[\\begin{array}{ccc}\n",
       "u - \\sqrt{g h} & 0 & 0 \\\\\n",
       "0 & u + \\sqrt{g h} & 0 \\\\\n",
       "0 & 0 & 0\n",
       "\\end{array}\\right] \\left[\\begin{array}{ccc}\n",
       "\\frac{1}{2} & -\\frac{h}{2 \\, \\sqrt{g h}} & 0 \\\\\n",
       "\\frac{1}{2} & \\frac{h}{2 \\, \\sqrt{g h}} & 0 \\\\\n",
       "0 & 0 & 1\n",
       "\\end{array}\\right]</script></html>"
      ],
      "text/plain": [
       "\\left[\\begin{array}{ccc}\n",
       "u & h & 0 \\\\\n",
       "g & u & 0 \\\\\n",
       "0 & 0 & 0\n",
       "\\end{array}\\right] = \\left[\\begin{array}{ccc}\n",
       "1 & 1 & 0 \\\\\n",
       "-\\frac{\\sqrt{g h}}{h} & \\frac{\\sqrt{g h}}{h} & 0 \\\\\n",
       "0 & 0 & 1\n",
       "\\end{array}\\right] \\left[\\begin{array}{ccc}\n",
       "u - \\sqrt{g h} & 0 & 0 \\\\\n",
       "0 & u + \\sqrt{g h} & 0 \\\\\n",
       "0 & 0 & 0\n",
       "\\end{array}\\right] \\left[\\begin{array}{ccc}\n",
       "\\frac{1}{2} & -\\frac{h}{2 \\, \\sqrt{g h}} & 0 \\\\\n",
       "\\frac{1}{2} & \\frac{h}{2 \\, \\sqrt{g h}} & 0 \\\\\n",
       "0 & 0 & 1\n",
       "\\end{array}\\right]"
      ]
     },
     "metadata": {},
     "output_type": "display_data"
    }
   ],
   "source": [
    "# X-DIRECTION CHARACTERISTICS\n",
    "var('h,b,u,v,g')\n",
    "\n",
    "f = vector([ h*u , u*u/2 + g*(h+b) , 0 ])\n",
    "dfdq = jacobian( f , vector([ h , u , v ]) )\n",
    "Lambda,R = dfdq.eigenmatrix_right()\n",
    "Lambda = Matrix(3,3,Lambda.list())\n",
    "L = (R^-1).simplify_full()\n",
    "\n",
    "show(latex(dfdq.simplify_full())+\"=\"+latex(R.simplify_full())+latex(Lambda.simplify_full())+latex(L.simplify_full()))"
   ]
  },
  {
   "cell_type": "code",
   "execution_count": 5,
   "metadata": {},
   "outputs": [
    {
     "data": {
      "text/html": [
       "<html><script type=\"math/tex; mode=display\">\\newcommand{\\Bold}[1]{\\mathbf{#1}}\\left[\\begin{array}{ccc}\n",
       "v & 0 & h \\\\\n",
       "0 & 0 & 0 \\\\\n",
       "g & 0 & v\n",
       "\\end{array}\\right] = \\left[\\begin{array}{ccc}\n",
       "1 & 1 & 0 \\\\\n",
       "0 & 0 & 1 \\\\\n",
       "-\\frac{\\sqrt{g h}}{h} & \\frac{\\sqrt{g h}}{h} & 0\n",
       "\\end{array}\\right] \\left[\\begin{array}{ccc}\n",
       "v - \\sqrt{g h} & 0 & 0 \\\\\n",
       "0 & v + \\sqrt{g h} & 0 \\\\\n",
       "0 & 0 & 0\n",
       "\\end{array}\\right] \\left[\\begin{array}{ccc}\n",
       "\\frac{1}{2} & 0 & -\\frac{h}{2 \\, \\sqrt{g h}} \\\\\n",
       "\\frac{1}{2} & 0 & \\frac{h}{2 \\, \\sqrt{g h}} \\\\\n",
       "0 & 1 & 0\n",
       "\\end{array}\\right]</script></html>"
      ],
      "text/plain": [
       "\\left[\\begin{array}{ccc}\n",
       "v & 0 & h \\\\\n",
       "0 & 0 & 0 \\\\\n",
       "g & 0 & v\n",
       "\\end{array}\\right] = \\left[\\begin{array}{ccc}\n",
       "1 & 1 & 0 \\\\\n",
       "0 & 0 & 1 \\\\\n",
       "-\\frac{\\sqrt{g h}}{h} & \\frac{\\sqrt{g h}}{h} & 0\n",
       "\\end{array}\\right] \\left[\\begin{array}{ccc}\n",
       "v - \\sqrt{g h} & 0 & 0 \\\\\n",
       "0 & v + \\sqrt{g h} & 0 \\\\\n",
       "0 & 0 & 0\n",
       "\\end{array}\\right] \\left[\\begin{array}{ccc}\n",
       "\\frac{1}{2} & 0 & -\\frac{h}{2 \\, \\sqrt{g h}} \\\\\n",
       "\\frac{1}{2} & 0 & \\frac{h}{2 \\, \\sqrt{g h}} \\\\\n",
       "0 & 1 & 0\n",
       "\\end{array}\\right]"
      ]
     },
     "metadata": {},
     "output_type": "display_data"
    }
   ],
   "source": [
    "# X-DIRECTION CHARACTERISTICS\n",
    "var('h,b,v,g')\n",
    "\n",
    "f = vector([ h*v , 0 , v*v/2 + g*(h+b) ])\n",
    "dfdq = jacobian( f , vector([ h , u , v ]) )\n",
    "Lambda,R = dfdq.eigenmatrix_right()\n",
    "Lambda = Matrix(3,3,Lambda.list())\n",
    "L = (R^-1).simplify_full()\n",
    "\n",
    "show(latex(dfdq.simplify_full())+\"=\"+latex(R.simplify_full())+latex(Lambda.simplify_full())+latex(L.simplify_full()))"
   ]
  },
  {
   "cell_type": "code",
   "execution_count": null,
   "metadata": {},
   "outputs": [],
   "source": []
  }
 ],
 "metadata": {
  "kernelspec": {
   "display_name": "SageMath 8.1",
   "language": "",
   "name": "sagemath"
  },
  "language_info": {
   "codemirror_mode": {
    "name": "ipython",
    "version": 2
   },
   "file_extension": ".py",
   "mimetype": "text/x-python",
   "name": "python",
   "nbconvert_exporter": "python",
   "pygments_lexer": "ipython2",
   "version": "2.7.17"
  }
 },
 "nbformat": 4,
 "nbformat_minor": 2
}
