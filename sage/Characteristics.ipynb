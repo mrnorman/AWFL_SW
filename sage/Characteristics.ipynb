{
 "cells": [
  {
   "cell_type": "markdown",
   "metadata": {},
   "source": [
    "var('q1,q2,q3,h,u,v,g_w,g')\n",
    "latex.matrix_delimiters(\"[\", \"]\")\n",
    "assume(g_w>0)\n",
    "q=vector([ q1 , q2 , q3 ])\n",
    "f=vector([ q2 , q2*q2/q1+g*q1*q1/2 , q2*q3/q1 ])\n",
    "g=vector([ q3 , q2*q3/q1 , q3*q3/q1+g*q1*q1/2 ])"
   ]
  },
  {
   "cell_type": "code",
   "execution_count": null,
   "metadata": {},
   "outputs": [],
   "source": []
  },
  {
   "cell_type": "markdown",
   "metadata": {
    "scrolled": false
   },
   "source": [
    "A=jacobian(f,q)\n",
    "Lambda,R = A.eigenmatrix_right()\n",
    "L=R^-1\n",
    "Lambda = matrix(3,3,Lambda.list())\n",
    "show(Lambda.subs(q1=h,q2=h*u,q3=h*v,g=g_w*g_w/h).simplify_full())\n",
    "show(R     .subs(q1=h,q2=h*u,q3=h*v,g=g_w*g_w/h).simplify_full())\n",
    "show(L     .subs(q1=h,q2=h*u,q3=h*v,g=g_w*g_w/h).simplify_full())"
   ]
  },
  {
   "cell_type": "code",
   "execution_count": null,
   "metadata": {},
   "outputs": [],
   "source": []
  },
  {
   "cell_type": "markdown",
   "metadata": {},
   "source": [
    "A=jacobian(g,q)\n",
    "Lambda,R = A.eigenmatrix_right()\n",
    "L=R^-1\n",
    "Lambda = matrix(3,3,Lambda.list())\n",
    "show(Lambda.subs(q1=h,q2=h*u,q3=h*v,g=g_w*g_w/h).simplify_full())\n",
    "show(R     .subs(q1=h,q2=h*u,q3=h*v,g=g_w*g_w/h).simplify_full())\n",
    "show(L     .subs(q1=h,q2=h*u,q3=h*v,g=g_w*g_w/h).simplify_full())"
   ]
  },
  {
   "cell_type": "code",
   "execution_count": null,
   "metadata": {},
   "outputs": [],
   "source": []
  }
 ],
 "metadata": {
  "kernelspec": {
   "display_name": "SageMath 8.7",
   "language": "",
   "name": "sagemath"
  },
  "language_info": {
   "codemirror_mode": {
    "name": "ipython",
    "version": 2
   },
   "file_extension": ".py",
   "mimetype": "text/x-python",
   "name": "python",
   "nbconvert_exporter": "python",
   "pygments_lexer": "ipython2",
   "version": "2.7.15"
  }
 },
 "nbformat": 4,
 "nbformat_minor": 2
}
